{
 "cells": [
  {
   "cell_type": "code",
   "execution_count": 1,
   "metadata": {},
   "outputs": [],
   "source": [
    "from model.layers import Conv2D, Flatten, FullyConnected, Pooling, Padding\n",
    "from model.model import Model\n",
    "from model.optimizers import Adam, SGD\n",
    "from model.activations import ReLU, Softmax, Tanh\n",
    "from model.losses import cross_entropy, mean_squared_error"
   ]
  },
  {
   "cell_type": "code",
   "execution_count": 2,
   "metadata": {},
   "outputs": [],
   "source": [
    "import matplotlib.pyplot as plt\n",
    "%matplotlib inline"
   ]
  },
  {
   "cell_type": "code",
   "execution_count": 3,
   "metadata": {},
   "outputs": [],
   "source": [
    "import numpy as np\n",
    "import os"
   ]
  },
  {
   "cell_type": "code",
   "execution_count": 4,
   "metadata": {},
   "outputs": [
    {
     "name": "stdout",
     "output_type": "stream",
     "text": [
      "Number of training examples: 60000\n",
      "Number of testing examples: 60000\n",
      "Size of each image: (28, 28)\n"
     ]
    }
   ],
   "source": [
    "from tensorflow.keras.datasets import mnist\n",
    "(x_train, y_train), (x_test, y_test) = mnist.load_data()\n",
    "\n",
    "print(f\"Number of training examples: {x_train.shape[0]}\")\n",
    "print(f\"Number of testing examples: {x_train.shape[0]}\")\n",
    "print(f\"Size of each image: {x_train.shape[1:]}\")"
   ]
  },
  {
   "cell_type": "code",
   "execution_count": 5,
   "metadata": {},
   "outputs": [
    {
     "data": {
      "text/plain": [
       "<matplotlib.image.AxesImage at 0x2532f2849e8>"
      ]
     },
     "execution_count": 5,
     "metadata": {},
     "output_type": "execute_result"
    },
    {
     "data": {
      "image/png": "[encoded data removed]",
      "text/plain": [
       "<Figure size 432x288 with 1 Axes>"
      ]
     },
     "metadata": {
      "needs_background": "light"
     },
     "output_type": "display_data"
    }
   ],
   "source": [
    "selected_image = x_train[242]\n",
    "\n",
    "plt.imshow(selected_image, cmap=\"Greys\")"
   ]
  },
  {
   "cell_type": "code",
   "execution_count": 6,
   "metadata": {},
   "outputs": [],
   "source": [
    "def fix_y(arr):\n",
    "    \"\"\"\n",
    "    Transforms the given array to a onehot encoded vector\n",
    "    \"\"\"\n",
    "    new_arr = np.zeros((arr.shape[0], 10))\n",
    "    for idx in range(arr.shape[0]):\n",
    "        new_arr[idx][arr[idx]] = 1\n",
    "    return new_arr\n",
    "\n",
    "y_train = fix_y(y_train).astype(\"float32\")\n",
    "y_test = fix_y(y_test).astype(\"float32\")\n",
    "\n",
    "x_train = np.expand_dims(x_train, -1).astype(\"float32\") / 255.0\n",
    "x_test = np.expand_dims(x_test, -1).astype(\"float32\") / 255.0"
   ]
  },
  {
   "cell_type": "code",
   "execution_count": 7,
   "metadata": {},
   "outputs": [],
   "source": [
    "model = Model([\n",
    "    Padding(2, mode=\"zero\"),\n",
    "    Pooling((2, 2), step=1, mode='max'),\n",
    "    Conv2D((4, 4), step=2, filters=8),\n",
    "    Tanh(),\n",
    "    Padding(2, mode=\"zero\"),\n",
    "    Pooling((2, 2), step=1, mode='max'),\n",
    "    Conv2D((4, 4), step=2, filters=16),\n",
    "    Tanh(),\n",
    "    Padding(1, mode=\"zero\"),\n",
    "    Pooling((2, 2), step=1, mode='max'),\n",
    "    Conv2D((4, 4), step=2, filters=32),\n",
    "    Tanh(),\n",
    "    Flatten(),\n",
    "    FullyConnected(10),\n",
    "    Softmax()\n",
    "])"
   ]
  },
  {
   "cell_type": "code",
   "execution_count": 8,
   "metadata": {},
   "outputs": [],
   "source": [
    "optimizer = Adam(0.1)"
   ]
  },
  {
   "cell_type": "code",
   "execution_count": 9,
   "metadata": {},
   "outputs": [],
   "source": [
    "# run the model on some data to create weights\n",
    "model(x_train[:3])\n",
    "\n",
    "optimizer.register_variables(model)"
   ]
  },
  {
   "cell_type": "code",
   "execution_count": 10,
   "metadata": {},
   "outputs": [
    {
     "data": {
      "text/plain": [
       "13314"
      ]
     },
     "execution_count": 10,
     "metadata": {},
     "output_type": "execute_result"
    }
   ],
   "source": [
    "model.calculate_size()"
   ]
  },
  {
   "cell_type": "code",
   "execution_count": 11,
   "metadata": {},
   "outputs": [],
   "source": [
    "def split_data_to_batches(X, Y, batch_size):\n",
    "    batches = X.shape[0] // batch_size\n",
    "    for batch_idx in range(batches):\n",
    "        start = batch_idx*batch_size\n",
    "        end = (batch_idx+1)*batch_size\n",
    "        yield X[start:end], Y[start:end]"
   ]
  },
  {
   "cell_type": "code",
   "execution_count": 12,
   "metadata": {},
   "outputs": [],
   "source": [
    "weights_prefix = \"training/\"\n",
    "if not os.path.exists(weights_prefix):\n",
    "    os.mkdir(weights_prefix)"
   ]
  },
  {
   "cell_type": "code",
   "execution_count": 13,
   "metadata": {
    "scrolled": false
   },
   "outputs": [
    {
     "name": "stdout",
     "output_type": "stream",
     "text": [
      "Epoch 1 finished!\tLoss: 2.52089\n",
      "Epoch 2 finished!\tLoss: 2.18272\n",
      "Epoch 3 finished!\tLoss: 1.80984\n",
      "Epoch 4 finished!\tLoss: 1.31198\n",
      "Epoch 5 finished!\tLoss: 0.99371\n",
      "Epoch 6 finished!\tLoss: 0.83280\n",
      "Epoch 7 finished!\tLoss: 0.72186\n",
      "Epoch 8 finished!\tLoss: 0.64843\n",
      "Epoch 9 finished!\tLoss: 0.58641\n",
      "Epoch 10 finished!\tLoss: 0.52862\n",
      "Epoch 11 finished!\tLoss: 0.48230\n",
      "Epoch 12 finished!\tLoss: 0.44377\n",
      "Epoch 13 finished!\tLoss: 0.41148\n",
      "Epoch 14 finished!\tLoss: 0.38316\n",
      "Epoch 15 finished!\tLoss: 0.35971\n",
      "Epoch 16 finished!\tLoss: 0.34107\n",
      "Epoch 17 finished!\tLoss: 0.32445\n",
      "Epoch 18 finished!\tLoss: 0.30975\n",
      "Epoch 19 finished!\tLoss: 0.29654\n",
      "Epoch 20 finished!\tLoss: 0.28429\n"
     ]
    }
   ],
   "source": [
    "EPOCHS = 20\n",
    "losses = []\n",
    "\n",
    "for epoch in range(1, EPOCHS+1):\n",
    "    epoch_loss = []\n",
    "    for x,y in split_data_to_batches(x_train, y_train, 15000):\n",
    "        preds = model(x)\n",
    "        loss = cross_entropy(y, preds)\n",
    "        model.backward(y, preds, optimizer) \n",
    "        epoch_loss.append(loss)\n",
    "    print(f\"Epoch {epoch} finished!\\tLoss: {np.mean(epoch_loss):.5f}\")\n",
    "    losses.extend(epoch_loss)\n",
    "    model.save(weights_prefix + \"epoch\" + str(epoch))"
   ]
  },
  {
   "cell_type": "code",
   "execution_count": 14,
   "metadata": {},
   "outputs": [
    {
     "name": "stdout",
     "output_type": "stream",
     "text": [
      "Test accuracy: 92.22%\n"
     ]
    }
   ],
   "source": [
    "preds = model(x_test)\n",
    "preds_am = np.argmax(preds, axis=1)\n",
    "real = y_test\n",
    "real_am = np.argmax(real, axis=1)\n",
    "\n",
    "print(f\"Test accuracy: {sum(preds_am == real_am)/x_test.shape[0] * 100:.2f}%\")"
   ]
  },
  {
   "cell_type": "code",
   "execution_count": 15,
   "metadata": {},
   "outputs": [
    {
     "data": {
      "image/png": "[encoded data removed]",
      "text/plain": [
       "<Figure size 432x288 with 1 Axes>"
      ]
     },
     "metadata": {
      "needs_background": "light"
     },
     "output_type": "display_data"
    }
   ],
   "source": [
    "plt.plot(losses)\n",
    "plt.show()"
   ]
  }
 ],
 "metadata": {
  "kernelspec": {
   "display_name": "Python 3",
   "language": "python",
   "name": "python3"
  },
  "language_info": {
   "codemirror_mode": {
    "name": "ipython",
    "version": 3
   },
   "file_extension": ".py",
   "mimetype": "text/x-python",
   "name": "python",
   "nbconvert_exporter": "python",
   "pygments_lexer": "ipython3",
   "version": "3.6.6"
  }
 },
 "nbformat": 4,
 "nbformat_minor": 2
}
