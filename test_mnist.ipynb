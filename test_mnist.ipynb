{
 "cells": [
  {
   "cell_type": "code",
   "execution_count": 1,
   "metadata": {},
   "outputs": [],
   "source": [
    "from model.layers import Conv2D, Flatten, FullyConnected, Pooling, Padding\n",
    "from model.model import Model\n",
    "from model.optimizers import Adam, SGD\n",
    "from model.activations import ReLU, Softmax, Tanh\n",
    "from model.losses import cross_entropy, mean_squared_error"
   ]
  },
  {
   "cell_type": "code",
   "execution_count": 2,
   "metadata": {},
   "outputs": [],
   "source": [
    "import matplotlib.pyplot as plt\n",
    "%matplotlib inline"
   ]
  },
  {
   "cell_type": "code",
   "execution_count": 3,
   "metadata": {},
   "outputs": [],
   "source": [
    "import numpy as np\n",
    "import os"
   ]
  },
  {
   "cell_type": "code",
   "execution_count": 4,
   "metadata": {},
   "outputs": [
    {
     "name": "stdout",
     "output_type": "stream",
     "text": [
      "Number of training examples: 60000\n",
      "Number of testing examples: 60000\n",
      "Size of each image: (28, 28)\n"
     ]
    }
   ],
   "source": [
    "from tensorflow.keras.datasets import mnist\n",
    "(x_train, y_train), (x_test, y_test) = mnist.load_data()\n",
    "\n",
    "print(f\"Number of training examples: {x_train.shape[0]}\")\n",
    "print(f\"Number of testing examples: {x_train.shape[0]}\")\n",
    "print(f\"Size of each image: {x_train.shape[1:]}\")"
   ]
  },
  {
   "cell_type": "code",
   "execution_count": 5,
   "metadata": {},
   "outputs": [
    {
     "data": {
      "text/plain": [
       "<matplotlib.image.AxesImage at 0x1db4747eda0>"
      ]
     },
     "execution_count": 5,
     "metadata": {},
     "output_type": "execute_result"
    },
    {
     "data": {
      "image/png": "[encoded data removed]",
      "text/plain": [
       "<Figure size 432x288 with 1 Axes>"
      ]
     },
     "metadata": {
      "needs_background": "light"
     },
     "output_type": "display_data"
    }
   ],
   "source": [
    "selected_image = x_train[242]\n",
    "\n",
    "plt.imshow(selected_image, cmap=\"Greys\")"
   ]
  },
  {
   "cell_type": "code",
   "execution_count": 6,
   "metadata": {},
   "outputs": [],
   "source": [
    "def fix_y(arr):\n",
    "    \"\"\"\n",
    "    Transforms the given array to a onehot encoded vector\n",
    "    \"\"\"\n",
    "    new_arr = np.zeros((arr.shape[0], 10))\n",
    "    for idx in range(arr.shape[0]):\n",
    "        new_arr[idx][arr[idx]] = 1\n",
    "    return new_arr\n",
    "\n",
    "y_train = fix_y(y_train).astype(\"float32\")\n",
    "y_test = fix_y(y_test).astype(\"float32\")\n",
    "\n",
    "x_train = np.expand_dims(x_train, -1).astype(\"float32\") / 255.0\n",
    "x_test = np.expand_dims(x_test, -1).astype(\"float32\") / 255.0"
   ]
  },
  {
   "cell_type": "code",
   "execution_count": 7,
   "metadata": {},
   "outputs": [],
   "source": [
    "model = Model([\n",
    "    Padding(2, mode=\"zero\"),\n",
    "    Pooling((3, 3), 1, mode='max'),\n",
    "    Conv2D((4, 4), step=2, filters=8),\n",
    "    Tanh(),\n",
    "    Padding(2, mode=\"zero\"),\n",
    "    Pooling((3, 3), 1, mode='max'),\n",
    "    Conv2D((4, 4), step=1, filters=4),\n",
    "    Tanh(),\n",
    "    Flatten(),\n",
    "    FullyConnected(10),\n",
    "    Softmax()\n",
    "])"
   ]
  },
  {
   "cell_type": "code",
   "execution_count": 8,
   "metadata": {},
   "outputs": [],
   "source": [
    "optimizer = Adam(0.015)"
   ]
  },
  {
   "cell_type": "code",
   "execution_count": 9,
   "metadata": {},
   "outputs": [],
   "source": [
    "# run the model on some data to create weights\n",
    "model(x_train[:3])\n",
    "\n",
    "optimizer.register_variables(model)"
   ]
  },
  {
   "cell_type": "code",
   "execution_count": 10,
   "metadata": {},
   "outputs": [
    {
     "data": {
      "text/plain": [
       "7422"
      ]
     },
     "execution_count": 10,
     "metadata": {},
     "output_type": "execute_result"
    }
   ],
   "source": [
    "model.calculate_size()"
   ]
  },
  {
   "cell_type": "code",
   "execution_count": 11,
   "metadata": {},
   "outputs": [],
   "source": [
    "def split_data_to_batches(X, Y, batch_size):\n",
    "    batches = X.shape[0] // batch_size\n",
    "    for batch_idx in range(batches):\n",
    "        start = batch_idx*batch_size\n",
    "        end = (batch_idx+1)*batch_size\n",
    "        yield X[start:end], Y[start:end]"
   ]
  },
  {
   "cell_type": "code",
   "execution_count": 12,
   "metadata": {},
   "outputs": [],
   "source": [
    "weights_prefix = \"training/\"\n",
    "if not os.path.exists(weights_prefix):\n",
    "    os.mkdir(weights_prefix)"
   ]
  },
  {
   "cell_type": "code",
   "execution_count": 13,
   "metadata": {
    "scrolled": false
   },
   "outputs": [
    {
     "name": "stdout",
     "output_type": "stream",
     "text": [
      "Epoch 1 finished!\tLoss: 2.30257\n",
      "Epoch 2 finished!\tLoss: 2.29369\n",
      "Epoch 3 finished!\tLoss: 2.24633\n",
      "Epoch 4 finished!\tLoss: 2.17906\n",
      "Epoch 5 finished!\tLoss: 2.09548\n",
      "Epoch 6 finished!\tLoss: 2.00060\n",
      "Epoch 7 finished!\tLoss: 1.89891\n",
      "Epoch 8 finished!\tLoss: 1.79588\n",
      "Epoch 9 finished!\tLoss: 1.69384\n",
      "Epoch 10 finished!\tLoss: 1.60150\n",
      "Epoch 11 finished!\tLoss: 1.53012\n",
      "Epoch 12 finished!\tLoss: 1.48168\n",
      "Epoch 13 finished!\tLoss: 1.40713\n",
      "Epoch 14 finished!\tLoss: 1.38401\n",
      "Epoch 15 finished!\tLoss: 1.31965\n"
     ]
    }
   ],
   "source": [
    "EPOCHS = 30\n",
    "losses = []\n",
    "\n",
    "for epoch in range(1, EPOCHS+1):\n",
    "    epoch_loss = []\n",
    "    for x,y in split_data_to_batches(x_train, y_train, 60000):\n",
    "        preds = model(x)\n",
    "        loss = cross_entropy(y, preds)\n",
    "        model.backward(y, preds, optimizer)\n",
    "        epoch_loss.append(loss)\n",
    "    print(f\"Epoch {epoch} finished!\\tLoss: {np.mean(epoch_loss):.5f}\")\n",
    "    losses.extend(epoch_loss)\n",
    "    model.save(weights_prefix + \"epoch\" + str(epoch))"
   ]
  },
  {
   "cell_type": "code",
   "execution_count": 16,
   "metadata": {},
   "outputs": [
    {
     "name": "stdout",
     "output_type": "stream",
     "text": [
      "Epoch 16 finished!\tLoss: 1.31309\n",
      "Epoch 17 finished!\tLoss: 1.25079\n",
      "Epoch 18 finished!\tLoss: 1.25395\n",
      "Epoch 19 finished!\tLoss: 1.19593\n",
      "Epoch 20 finished!\tLoss: 1.20283\n",
      "Epoch 21 finished!\tLoss: 1.15026\n",
      "Epoch 22 finished!\tLoss: 1.15943\n",
      "Epoch 23 finished!\tLoss: 1.11022\n",
      "Epoch 24 finished!\tLoss: 1.12232\n",
      "Epoch 25 finished!\tLoss: 1.07399\n",
      "Epoch 26 finished!\tLoss: 1.08845\n",
      "Epoch 27 finished!\tLoss: 1.04086\n",
      "Epoch 28 finished!\tLoss: 1.05728\n",
      "Epoch 29 finished!\tLoss: 1.00990\n",
      "Epoch 30 finished!\tLoss: 1.02830\n"
     ]
    }
   ],
   "source": [
    "for epoch in range(16, 31):\n",
    "    epoch_loss = []\n",
    "    for x,y in split_data_to_batches(x_train, y_train, 60000):\n",
    "        preds = model(x)\n",
    "        loss = cross_entropy(y, preds)\n",
    "        model.backward(y, preds, optimizer)\n",
    "        epoch_loss.append(loss)\n",
    "    print(f\"Epoch {epoch} finished!\\tLoss: {np.mean(epoch_loss):.5f}\")\n",
    "    losses.extend(epoch_loss)\n",
    "    model.save(weights_prefix + \"epoch\" + str(epoch))"
   ]
  },
  {
   "cell_type": "code",
   "execution_count": 19,
   "metadata": {},
   "outputs": [
    {
     "name": "stdout",
     "output_type": "stream",
     "text": [
      "Epoch 31 finished!\tLoss: 0.98107\n",
      "Epoch 32 finished!\tLoss: 1.00160\n",
      "Epoch 33 finished!\tLoss: 0.95492\n",
      "Epoch 34 finished!\tLoss: 0.97737\n",
      "Epoch 35 finished!\tLoss: 0.93034\n",
      "Epoch 36 finished!\tLoss: 0.95417\n",
      "Epoch 37 finished!\tLoss: 0.90670\n",
      "Epoch 38 finished!\tLoss: 0.93210\n",
      "Epoch 39 finished!\tLoss: 0.88524\n",
      "Epoch 40 finished!\tLoss: 0.91086\n"
     ]
    }
   ],
   "source": [
    "for epoch in range(31, 41):\n",
    "    epoch_loss = []\n",
    "    for x,y in split_data_to_batches(x_train, y_train, 60000):\n",
    "        preds = model(x)\n",
    "        loss = cross_entropy(y, preds)\n",
    "        model.backward(y, preds, optimizer)\n",
    "        epoch_loss.append(loss)\n",
    "    print(f\"Epoch {epoch} finished!\\tLoss: {np.mean(epoch_loss):.5f}\")\n",
    "    losses.extend(epoch_loss)\n",
    "    model.save(weights_prefix + \"epoch\" + str(epoch))"
   ]
  },
  {
   "cell_type": "code",
   "execution_count": 20,
   "metadata": {},
   "outputs": [
    {
     "name": "stdout",
     "output_type": "stream",
     "text": [
      "Test accuracy: 74.37%\n"
     ]
    }
   ],
   "source": [
    "preds = model(x_test)\n",
    "preds_am = np.argmax(preds, axis=1)\n",
    "real = y_test\n",
    "real_am = np.argmax(real, axis=1)\n",
    "\n",
    "print(f\"Test accuracy: {sum(preds_am == real_am)/x_test.shape[0] * 100:.2f}%\")"
   ]
  },
  {
   "cell_type": "code",
   "execution_count": 21,
   "metadata": {},
   "outputs": [
    {
     "data": {
      "image/png": "[encoded data removed]",
      "text/plain": [
       "<Figure size 432x288 with 1 Axes>"
      ]
     },
     "metadata": {
      "needs_background": "light"
     },
     "output_type": "display_data"
    }
   ],
   "source": [
    "plt.plot(losses)\n",
    "plt.show()"
   ]
  }
 ],
 "metadata": {
  "kernelspec": {
   "display_name": "Python 3",
   "language": "python",
   "name": "python3"
  },
  "language_info": {
   "codemirror_mode": {
    "name": "ipython",
    "version": 3
   },
   "file_extension": ".py",
   "mimetype": "text/x-python",
   "name": "python",
   "nbconvert_exporter": "python",
   "pygments_lexer": "ipython3",
   "version": "3.6.6"
  }
 },
 "nbformat": 4,
 "nbformat_minor": 2
}
